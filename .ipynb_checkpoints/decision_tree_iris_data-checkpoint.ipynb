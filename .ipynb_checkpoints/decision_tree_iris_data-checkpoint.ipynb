{
 "cells": [
  {
   "cell_type": "code",
   "execution_count": 1,
   "id": "bdd8b361",
   "metadata": {},
   "outputs": [],
   "source": [
    "from sklearn.datasets import load_iris\n",
    "from sklearn import tree\n",
    "from sklearn.model_selection import train_test_split\n",
    "from sklearn import metrics\n",
    "import pandas as pd\n",
    "import matplotlib.pyplot as plt\n",
    "from matplotlib.pyplot import figure\n",
    "import graphviz\n",
    "from ipywidgets import *\n",
    "%matplotlib inline"
   ]
  },
  {
   "cell_type": "code",
   "execution_count": 2,
   "id": "50c839f7",
   "metadata": {},
   "outputs": [
    {
     "data": {
      "text/plain": [
       "dict_keys(['data', 'target', 'frame', 'target_names', 'DESCR', 'feature_names', 'filename'])"
      ]
     },
     "execution_count": 2,
     "metadata": {},
     "output_type": "execute_result"
    }
   ],
   "source": [
    "iris = load_iris()\n",
    "iris.keys()"
   ]
  },
  {
   "cell_type": "code",
   "execution_count": 53,
   "id": "89ab0e03",
   "metadata": {},
   "outputs": [
    {
     "data": {
      "text/plain": [
       "array(['setosa', 'versicolor', 'virginica'], dtype='<U10')"
      ]
     },
     "execution_count": 53,
     "metadata": {},
     "output_type": "execute_result"
    }
   ],
   "source": [
    "iris.target_names"
   ]
  },
  {
   "cell_type": "code",
   "execution_count": 4,
   "id": "520a8085",
   "metadata": {
    "scrolled": true
   },
   "outputs": [],
   "source": [
    "df = pd.DataFrame(iris.data[:,2:], columns = [iris.feature_names[2], iris.feature_names[3]])\n",
    "pd.set_option('display.max_columns', None)"
   ]
  },
  {
   "cell_type": "code",
   "execution_count": 49,
   "id": "ba6aac9f",
   "metadata": {
    "scrolled": false
   },
   "outputs": [
    {
     "data": {
      "text/html": [
       "<div>\n",
       "<style scoped>\n",
       "    .dataframe tbody tr th:only-of-type {\n",
       "        vertical-align: middle;\n",
       "    }\n",
       "\n",
       "    .dataframe tbody tr th {\n",
       "        vertical-align: top;\n",
       "    }\n",
       "\n",
       "    .dataframe thead th {\n",
       "        text-align: right;\n",
       "    }\n",
       "</style>\n",
       "<table border=\"1\" class=\"dataframe\">\n",
       "  <thead>\n",
       "    <tr style=\"text-align: right;\">\n",
       "      <th></th>\n",
       "      <th>petal length (cm)</th>\n",
       "      <th>petal width (cm)</th>\n",
       "      <th>diagnosis</th>\n",
       "    </tr>\n",
       "  </thead>\n",
       "  <tbody>\n",
       "    <tr>\n",
       "      <th>0</th>\n",
       "      <td>1.4</td>\n",
       "      <td>0.2</td>\n",
       "      <td>0</td>\n",
       "    </tr>\n",
       "    <tr>\n",
       "      <th>1</th>\n",
       "      <td>1.4</td>\n",
       "      <td>0.2</td>\n",
       "      <td>0</td>\n",
       "    </tr>\n",
       "    <tr>\n",
       "      <th>2</th>\n",
       "      <td>1.3</td>\n",
       "      <td>0.2</td>\n",
       "      <td>0</td>\n",
       "    </tr>\n",
       "    <tr>\n",
       "      <th>3</th>\n",
       "      <td>1.5</td>\n",
       "      <td>0.2</td>\n",
       "      <td>0</td>\n",
       "    </tr>\n",
       "    <tr>\n",
       "      <th>4</th>\n",
       "      <td>1.4</td>\n",
       "      <td>0.2</td>\n",
       "      <td>0</td>\n",
       "    </tr>\n",
       "    <tr>\n",
       "      <th>...</th>\n",
       "      <td>...</td>\n",
       "      <td>...</td>\n",
       "      <td>...</td>\n",
       "    </tr>\n",
       "    <tr>\n",
       "      <th>145</th>\n",
       "      <td>5.2</td>\n",
       "      <td>2.3</td>\n",
       "      <td>2</td>\n",
       "    </tr>\n",
       "    <tr>\n",
       "      <th>146</th>\n",
       "      <td>5.0</td>\n",
       "      <td>1.9</td>\n",
       "      <td>2</td>\n",
       "    </tr>\n",
       "    <tr>\n",
       "      <th>147</th>\n",
       "      <td>5.2</td>\n",
       "      <td>2.0</td>\n",
       "      <td>2</td>\n",
       "    </tr>\n",
       "    <tr>\n",
       "      <th>148</th>\n",
       "      <td>5.4</td>\n",
       "      <td>2.3</td>\n",
       "      <td>2</td>\n",
       "    </tr>\n",
       "    <tr>\n",
       "      <th>149</th>\n",
       "      <td>5.1</td>\n",
       "      <td>1.8</td>\n",
       "      <td>2</td>\n",
       "    </tr>\n",
       "  </tbody>\n",
       "</table>\n",
       "<p>150 rows × 3 columns</p>\n",
       "</div>"
      ],
      "text/plain": [
       "     petal length (cm)  petal width (cm)  diagnosis\n",
       "0                  1.4               0.2          0\n",
       "1                  1.4               0.2          0\n",
       "2                  1.3               0.2          0\n",
       "3                  1.5               0.2          0\n",
       "4                  1.4               0.2          0\n",
       "..                 ...               ...        ...\n",
       "145                5.2               2.3          2\n",
       "146                5.0               1.9          2\n",
       "147                5.2               2.0          2\n",
       "148                5.4               2.3          2\n",
       "149                5.1               1.8          2\n",
       "\n",
       "[150 rows x 3 columns]"
      ]
     },
     "execution_count": 49,
     "metadata": {},
     "output_type": "execute_result"
    }
   ],
   "source": [
    "df['diagnosis'] = iris.target\n",
    "df"
   ]
  },
  {
   "cell_type": "code",
   "execution_count": 54,
   "id": "ff5fbb66",
   "metadata": {
    "scrolled": false
   },
   "outputs": [
    {
     "data": {
      "image/png": "[encoded data removed]",
      "text/plain": [
       "<Figure size 1000x500 with 1 Axes>"
      ]
     },
     "metadata": {},
     "output_type": "display_data"
    }
   ],
   "source": [
    "diagnosis = df['diagnosis'].value_counts()\n",
    "diagnosis_label = iris.target_names\n",
    "diagnosis_size = diagnosis.values\n",
    "colors = ['red', 'blue']\n",
    "sizes = [diagnosis_size[0],diagnosis_size[1],diagnosis_size[2]]\n",
    "plt.figure(6,figsize=(10,5), dpi=100)\n",
    "def make_autopct(values):\n",
    "    def my_autopct(pct):\n",
    "        total = sum(values)\n",
    "        val = int(round(pct*total/100.0))\n",
    "        return '{p:.2f}%  ({v:d})'.format(p=pct,v=val)\n",
    "    return my_autopct\n",
    "\n",
    "plt.pie(sizes,colors=['blue','red','green'],textprops={'fontsize': 12},autopct=make_autopct(sizes), \n",
    "        labels=diagnosis_label,\n",
    "        shadow=True, startangle=90)\n",
    "plt.axis('equal')\n",
    "plt.title('Data Distribution')\n",
    "plt.show()"
   ]
  },
  {
   "cell_type": "code",
   "execution_count": 7,
   "id": "3aa4b06b",
   "metadata": {},
   "outputs": [],
   "source": [
    "df_0 = df[df['diagnosis'] == 0]\n",
    "df_1 = df[df['diagnosis'] == 1]\n",
    "df_2 = df[df['diagnosis'] == 2]"
   ]
  },
  {
   "cell_type": "code",
   "execution_count": 67,
   "id": "28371f23",
   "metadata": {},
   "outputs": [],
   "source": [
    "def plothist(area, bins):\n",
    "    plt.figure(1,figsize=(7,5), dpi=100)\n",
    "    plt.title('Distrubution')\n",
    "    plt.hist(df_0[area], alpha=0.5, color='blue', bins=bins, label='setosa')\n",
    "    plt.hist(df_1[area], alpha=0.5, color='red', bins=bins, label='versicolor')\n",
    "    plt.hist(df_2[area], alpha=0.5, color='green', bins=bins, label='virginica')\n",
    "    plt.xlabel('Values')\n",
    "    plt.ylabel('Y',rotation=0)\n",
    "    plt.legend(bbox_to_anchor=(1.05, 1), loc='upper left')\n",
    "    plt.grid(False)\n",
    "    plt.show()\n",
    "    return"
   ]
  },
  {
   "cell_type": "code",
   "execution_count": 68,
   "id": "035bdea5",
   "metadata": {},
   "outputs": [
    {
     "data": {
      "application/vnd.jupyter.widget-view+json": {
       "model_id": "6a47318ad601485b80aa0bbe488d5216",
       "version_major": 2,
       "version_minor": 0
      },
      "text/plain": [
       "interactive(children=(Dropdown(description='area', options=('petal length (cm)', 'petal width (cm)', 'diagnosi…"
      ]
     },
     "metadata": {},
     "output_type": "display_data"
    },
    {
     "data": {
      "text/plain": [
       "<function __main__.plothist(area, bins)>"
      ]
     },
     "execution_count": 68,
     "metadata": {},
     "output_type": "execute_result"
    }
   ],
   "source": [
    "interact(plothist,area=list(df.columns),bins=(4,40,4))"
   ]
  },
  {
   "cell_type": "code",
   "execution_count": 55,
   "id": "495228d7",
   "metadata": {},
   "outputs": [
    {
     "name": "stderr",
     "output_type": "stream",
     "text": [
      "C:\\Users\\UTILIS~1\\AppData\\Local\\Temp/ipykernel_5628/2677327236.py:1: FutureWarning: In a future version of pandas all arguments of DataFrame.drop except for the argument 'labels' will be keyword-only\n",
      "  X = pd.DataFrame(df.drop([\"diagnosis\"],1)).to_numpy()\n"
     ]
    },
    {
     "data": {
      "text/plain": [
       "(numpy.ndarray, (150, 2), numpy.ndarray, (150,))"
      ]
     },
     "execution_count": 55,
     "metadata": {},
     "output_type": "execute_result"
    }
   ],
   "source": [
    "X = pd.DataFrame(df.drop([\"diagnosis\"],1)).to_numpy()\n",
    "y = df['diagnosis']\n",
    "y = y.to_numpy()\n",
    "type(X), X.shape, type(y), y.shape"
   ]
  },
  {
   "cell_type": "markdown",
   "id": "a76ec87c",
   "metadata": {},
   "source": [
    "max_depth=3, puis max_depth=4 jusqu'à max_depth=10"
   ]
  },
  {
   "cell_type": "code",
   "execution_count": 56,
   "id": "3b025cb7",
   "metadata": {},
   "outputs": [],
   "source": [
    "X_train, X_test, y_train, y_test = train_test_split(X, y, test_size=0.30, random_state=42, stratify=y) "
   ]
  },
  {
   "cell_type": "code",
   "execution_count": 58,
   "id": "70688e8d",
   "metadata": {},
   "outputs": [
    {
     "data": {
      "text/plain": [
       "((105, 2), (105,), (45, 2), (45,))"
      ]
     },
     "execution_count": 58,
     "metadata": {},
     "output_type": "execute_result"
    }
   ],
   "source": [
    "X_train.shape, y_train.shape, X_test.shape, y_test.shape"
   ]
  },
  {
   "cell_type": "code",
   "execution_count": 69,
   "id": "148627ca",
   "metadata": {},
   "outputs": [],
   "source": [
    "def modeling(max_depth):\n",
    "    #criterion entre les entropy et gini, on peut changer pour voir, mais je ne sais pas\n",
    "    model = tree.DecisionTreeClassifier(random_state=42, max_depth=max_depth, criterion='entropy')\n",
    "    model = model.fit(X_train, y_train)\n",
    "    y_predict_test = model.predict(X_test)\n",
    "    \n",
    "    dot_data = tree.export_graphviz(model, out_file=None, \n",
    "                      feature_names=[iris.feature_names[2],iris.feature_names[3]],  \n",
    "                      class_names=iris.target_names,  \n",
    "                      filled=True, rounded=True,  \n",
    "                      special_characters=True)  \n",
    "    graph = graphviz.Source(dot_data)  \n",
    "    print(\"Accuracy:\",metrics.accuracy_score(y_test, y_predict_test))\n",
    "    return graph"
   ]
  },
  {
   "cell_type": "code",
   "execution_count": 66,
   "id": "11a2be8d",
   "metadata": {},
   "outputs": [
    {
     "data": {
      "application/vnd.jupyter.widget-view+json": {
       "model_id": "f5bd67f29f8143ef93e6d2f01bc1525a",
       "version_major": 2,
       "version_minor": 0
      },
      "text/plain": [
       "interactive(children=(IntSlider(value=6, description='max_depth', max=10, min=3), Output()), _dom_classes=('wi…"
      ]
     },
     "metadata": {},
     "output_type": "display_data"
    },
    {
     "data": {
      "text/plain": [
       "<function __main__.modeling(max_depth)>"
      ]
     },
     "execution_count": 66,
     "metadata": {},
     "output_type": "execute_result"
    }
   ],
   "source": [
    "interact(modeling,max_depth=(3,10,1))"
   ]
  },
  {
   "cell_type": "code",
   "execution_count": null,
   "id": "f6a53dc9",
   "metadata": {},
   "outputs": [],
   "source": []
  }
 ],
 "metadata": {
  "kernelspec": {
   "display_name": "Python 3 (ipykernel)",
   "language": "python",
   "name": "python3"
  },
  "language_info": {
   "codemirror_mode": {
    "name": "ipython",
    "version": 3
   },
   "file_extension": ".py",
   "mimetype": "text/x-python",
   "name": "python",
   "nbconvert_exporter": "python",
   "pygments_lexer": "ipython3",
   "version": "3.9.6"
  }
 },
 "nbformat": 4,
 "nbformat_minor": 5
}
